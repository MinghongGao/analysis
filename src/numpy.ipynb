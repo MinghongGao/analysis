{
 "cells": [
  {
   "cell_type": "code",
   "id": "initial_id",
   "metadata": {
    "collapsed": true,
    "ExecuteTime": {
     "end_time": "2025-09-14T09:00:30.113435Z",
     "start_time": "2025-09-14T09:00:30.112083Z"
    }
   },
   "source": [
    "import numpy as np\n",
    "import matplotlib as plt\n"
   ],
   "outputs": [],
   "execution_count": 1
  },
  {
   "metadata": {
    "ExecuteTime": {
     "end_time": "2025-09-14T09:01:43.525088Z",
     "start_time": "2025-09-14T09:01:43.520854Z"
    }
   },
   "cell_type": "code",
   "source": "a = np.array([2, 3, 4])",
   "id": "ac8c014b16e22f1d",
   "outputs": [],
   "execution_count": 2
  },
  {
   "metadata": {
    "ExecuteTime": {
     "end_time": "2025-09-14T09:01:52.797051Z",
     "start_time": "2025-09-14T09:01:52.793232Z"
    }
   },
   "cell_type": "code",
   "source": "a.dtype",
   "id": "41df444b2c1c7d63",
   "outputs": [
    {
     "data": {
      "text/plain": [
       "dtype('int64')"
      ]
     },
     "execution_count": 3,
     "metadata": {},
     "output_type": "execute_result"
    }
   ],
   "execution_count": 3
  },
  {
   "metadata": {
    "ExecuteTime": {
     "end_time": "2025-09-14T09:02:07.460542Z",
     "start_time": "2025-09-14T09:02:07.457356Z"
    }
   },
   "cell_type": "code",
   "source": "a.shape",
   "id": "fd13a82675721984",
   "outputs": [
    {
     "data": {
      "text/plain": [
       "(3,)"
      ]
     },
     "execution_count": 6,
     "metadata": {},
     "output_type": "execute_result"
    }
   ],
   "execution_count": 6
  },
  {
   "metadata": {
    "ExecuteTime": {
     "end_time": "2025-09-14T09:02:56.794454Z",
     "start_time": "2025-09-14T09:02:56.792036Z"
    }
   },
   "cell_type": "code",
   "source": "b = np.array([[1.5, 2, 3], [4, 5, 6]])",
   "id": "97a168f8482b8a6a",
   "outputs": [],
   "execution_count": 7
  },
  {
   "metadata": {
    "ExecuteTime": {
     "end_time": "2025-09-14T09:03:00.877289Z",
     "start_time": "2025-09-14T09:03:00.874575Z"
    }
   },
   "cell_type": "code",
   "source": "b.dtype",
   "id": "f2e6deea377fc43",
   "outputs": [
    {
     "data": {
      "text/plain": [
       "dtype('float64')"
      ]
     },
     "execution_count": 8,
     "metadata": {},
     "output_type": "execute_result"
    }
   ],
   "execution_count": 8
  },
  {
   "metadata": {
    "ExecuteTime": {
     "end_time": "2025-09-14T09:07:24.666490Z",
     "start_time": "2025-09-14T09:07:24.661982Z"
    }
   },
   "cell_type": "code",
   "source": "np.zeros((3, 4))",
   "id": "e0b8a6721af6c7d7",
   "outputs": [
    {
     "data": {
      "text/plain": [
       "array([[0., 0., 0., 0.],\n",
       "       [0., 0., 0., 0.],\n",
       "       [0., 0., 0., 0.]])"
      ]
     },
     "execution_count": 22,
     "metadata": {},
     "output_type": "execute_result"
    }
   ],
   "execution_count": 22
  },
  {
   "metadata": {
    "ExecuteTime": {
     "end_time": "2025-09-14T09:03:56.245777Z",
     "start_time": "2025-09-14T09:03:56.242649Z"
    }
   },
   "cell_type": "code",
   "source": "np.ones([2, 3, 4], dtype=np.int16)",
   "id": "60e182ecdce17ee",
   "outputs": [
    {
     "data": {
      "text/plain": [
       "array([[[1, 1, 1, 1],\n",
       "        [1, 1, 1, 1],\n",
       "        [1, 1, 1, 1]],\n",
       "\n",
       "       [[1, 1, 1, 1],\n",
       "        [1, 1, 1, 1],\n",
       "        [1, 1, 1, 1]]], dtype=int16)"
      ]
     },
     "execution_count": 10,
     "metadata": {},
     "output_type": "execute_result"
    }
   ],
   "execution_count": 10
  },
  {
   "metadata": {
    "ExecuteTime": {
     "end_time": "2025-09-14T09:05:17.798450Z",
     "start_time": "2025-09-14T09:05:17.795927Z"
    }
   },
   "cell_type": "code",
   "source": "np.empty((2, 3))",
   "id": "185bbde7e71c9e75",
   "outputs": [
    {
     "data": {
      "text/plain": [
       "array([[1.5, 2. , 3. ],\n",
       "       [4. , 5. , 6. ]])"
      ]
     },
     "execution_count": 16,
     "metadata": {},
     "output_type": "execute_result"
    }
   ],
   "execution_count": 16
  },
  {
   "metadata": {
    "ExecuteTime": {
     "end_time": "2025-09-14T09:05:31.496093Z",
     "start_time": "2025-09-14T09:05:31.493286Z"
    }
   },
   "cell_type": "code",
   "source": "np.arange(6)",
   "id": "7c43ea5526d8c68e",
   "outputs": [
    {
     "data": {
      "text/plain": [
       "array([0, 1, 2, 3, 4, 5])"
      ]
     },
     "execution_count": 17,
     "metadata": {},
     "output_type": "execute_result"
    }
   ],
   "execution_count": 17
  },
  {
   "metadata": {
    "ExecuteTime": {
     "end_time": "2025-09-14T09:04:45.691698Z",
     "start_time": "2025-09-14T09:04:45.688383Z"
    }
   },
   "cell_type": "code",
   "source": "np.arange(10, 30, 5)",
   "id": "a06dda8e04f21a6b",
   "outputs": [
    {
     "data": {
      "text/plain": [
       "array([10, 15, 20, 25])"
      ]
     },
     "execution_count": 14,
     "metadata": {},
     "output_type": "execute_result"
    }
   ],
   "execution_count": 14
  },
  {
   "metadata": {
    "ExecuteTime": {
     "end_time": "2025-09-14T09:05:01.058192Z",
     "start_time": "2025-09-14T09:05:01.055458Z"
    }
   },
   "cell_type": "code",
   "source": "np.arange(0, 2, 0.3)",
   "id": "1e093774ffb67176",
   "outputs": [
    {
     "data": {
      "text/plain": [
       "array([0. , 0.3, 0.6, 0.9, 1.2, 1.5, 1.8])"
      ]
     },
     "execution_count": 15,
     "metadata": {},
     "output_type": "execute_result"
    }
   ],
   "execution_count": 15
  },
  {
   "metadata": {
    "ExecuteTime": {
     "end_time": "2025-09-14T09:06:02.309409Z",
     "start_time": "2025-09-14T09:06:02.306638Z"
    }
   },
   "cell_type": "code",
   "source": "np.arange(24).reshape(2, 3, 4)",
   "id": "253c145228be0b2b",
   "outputs": [
    {
     "data": {
      "text/plain": [
       "array([[[ 0,  1,  2,  3],\n",
       "        [ 4,  5,  6,  7],\n",
       "        [ 8,  9, 10, 11]],\n",
       "\n",
       "       [[12, 13, 14, 15],\n",
       "        [16, 17, 18, 19],\n",
       "        [20, 21, 22, 23]]])"
      ]
     },
     "execution_count": 18,
     "metadata": {},
     "output_type": "execute_result"
    }
   ],
   "execution_count": 18
  },
  {
   "metadata": {
    "ExecuteTime": {
     "end_time": "2025-09-14T09:07:23.584332Z",
     "start_time": "2025-09-14T09:07:23.581462Z"
    }
   },
   "cell_type": "code",
   "source": [
    "a = np.array([20, 30, 40, 50])\n",
    "b = np.arange(4)\n"
   ],
   "id": "4fa48a177b316788",
   "outputs": [],
   "execution_count": 21
  },
  {
   "metadata": {
    "ExecuteTime": {
     "end_time": "2025-09-14T09:07:12.714115Z",
     "start_time": "2025-09-14T09:07:12.711270Z"
    }
   },
   "cell_type": "code",
   "source": [
    "c = a - b\n",
    "c"
   ],
   "id": "6232e237f843ed2a",
   "outputs": [
    {
     "data": {
      "text/plain": [
       "array([20, 29, 38, 47])"
      ]
     },
     "execution_count": 20,
     "metadata": {},
     "output_type": "execute_result"
    }
   ],
   "execution_count": 20
  },
  {
   "metadata": {
    "ExecuteTime": {
     "end_time": "2025-09-14T09:07:40.068797Z",
     "start_time": "2025-09-14T09:07:40.062957Z"
    }
   },
   "cell_type": "code",
   "source": "b**2",
   "id": "6817d2fd2e1293cf",
   "outputs": [
    {
     "data": {
      "text/plain": [
       "array([0, 1, 4, 9])"
      ]
     },
     "execution_count": 23,
     "metadata": {},
     "output_type": "execute_result"
    }
   ],
   "execution_count": 23
  },
  {
   "metadata": {
    "ExecuteTime": {
     "end_time": "2025-09-14T09:08:06.742928Z",
     "start_time": "2025-09-14T09:08:06.739614Z"
    }
   },
   "cell_type": "code",
   "source": "10 * np.sin(a)",
   "id": "6167f6353834522a",
   "outputs": [
    {
     "data": {
      "text/plain": [
       "array([ 9.12945251, -9.88031624,  7.4511316 , -2.62374854])"
      ]
     },
     "execution_count": 24,
     "metadata": {},
     "output_type": "execute_result"
    }
   ],
   "execution_count": 24
  },
  {
   "metadata": {
    "ExecuteTime": {
     "end_time": "2025-09-14T09:08:14.014002Z",
     "start_time": "2025-09-14T09:08:14.010136Z"
    }
   },
   "cell_type": "code",
   "source": "a < 35",
   "id": "2dd08453e854a61d",
   "outputs": [
    {
     "data": {
      "text/plain": [
       "array([ True,  True, False, False])"
      ]
     },
     "execution_count": 25,
     "metadata": {},
     "output_type": "execute_result"
    }
   ],
   "execution_count": 25
  },
  {
   "metadata": {
    "ExecuteTime": {
     "end_time": "2025-09-14T09:08:38.473386Z",
     "start_time": "2025-09-14T09:08:38.468805Z"
    }
   },
   "cell_type": "code",
   "source": [
    "A = np.array([[1, 1],\n",
    "              [0, 1]])\n",
    "B = np.array([[2, 0],\n",
    "              [3, 4]])\n"
   ],
   "id": "6b433a4aaa2a9510",
   "outputs": [],
   "execution_count": 26
  },
  {
   "metadata": {
    "ExecuteTime": {
     "end_time": "2025-09-14T09:08:50.224889Z",
     "start_time": "2025-09-14T09:08:50.222508Z"
    }
   },
   "cell_type": "code",
   "source": "A * B     # elementwise product\n",
   "id": "692bf6db6cca1286",
   "outputs": [
    {
     "data": {
      "text/plain": [
       "array([[2, 0],\n",
       "       [0, 4]])"
      ]
     },
     "execution_count": 27,
     "metadata": {},
     "output_type": "execute_result"
    }
   ],
   "execution_count": 27
  },
  {
   "metadata": {
    "ExecuteTime": {
     "end_time": "2025-09-14T09:08:55.842520Z",
     "start_time": "2025-09-14T09:08:55.839730Z"
    }
   },
   "cell_type": "code",
   "source": "A @ B     # matrix product\n",
   "id": "e1234dc5b3513f12",
   "outputs": [
    {
     "data": {
      "text/plain": [
       "array([[5, 4],\n",
       "       [3, 4]])"
      ]
     },
     "execution_count": 28,
     "metadata": {},
     "output_type": "execute_result"
    }
   ],
   "execution_count": 28
  },
  {
   "metadata": {},
   "cell_type": "code",
   "outputs": [],
   "execution_count": null,
   "source": "A.dot(B)  # another matrix product",
   "id": "3a2d926d17fef201"
  }
 ],
 "metadata": {
  "kernelspec": {
   "display_name": "Python 3",
   "language": "python",
   "name": "python3"
  },
  "language_info": {
   "codemirror_mode": {
    "name": "ipython",
    "version": 2
   },
   "file_extension": ".py",
   "mimetype": "text/x-python",
   "name": "python",
   "nbconvert_exporter": "python",
   "pygments_lexer": "ipython2",
   "version": "2.7.6"
  }
 },
 "nbformat": 4,
 "nbformat_minor": 5
}
